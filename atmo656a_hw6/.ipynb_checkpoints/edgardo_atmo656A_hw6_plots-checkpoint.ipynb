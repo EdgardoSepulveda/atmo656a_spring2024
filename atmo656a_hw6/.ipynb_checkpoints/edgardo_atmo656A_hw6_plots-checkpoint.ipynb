{
 "cells": [
  {
   "cell_type": "markdown",
   "id": "efa96a40-b1be-4408-b239-285c531c7e33",
   "metadata": {},
   "source": [
    "# ATMO656A Spring 2024 - Homework 6 (Mie Scattering)"
   ]
  },
  {
   "cell_type": "markdown",
   "id": "71d26bf3-6e78-4900-aa80-7f3b7e56383c",
   "metadata": {},
   "source": [
    "Edgardo I. Sepulveda Araya"
   ]
  },
  {
   "cell_type": "markdown",
   "id": "8c73db15-0810-4a63-9f9d-f255b5513a50",
   "metadata": {},
   "source": [
    "Results from fortran code outputs (compiled in UofA HPC)"
   ]
  },
  {
   "cell_type": "markdown",
   "id": "e1a5c32c-9503-4f80-bb8a-d79974bbbcec",
   "metadata": {},
   "source": [
    "Importing libraries:"
   ]
  },
  {
   "cell_type": "code",
   "execution_count": 6,
   "id": "68145ea0-b014-440d-a0bd-ce22b79be552",
   "metadata": {
    "tags": []
   },
   "outputs": [],
   "source": [
    "import numpy as np\n",
    "import matplotlib.pyplot as plt\n",
    "import matplotlib.ticker as ticker"
   ]
  },
  {
   "cell_type": "code",
   "execution_count": 2,
   "id": "c3c4408f-c1f7-4414-b167-27d1c440779e",
   "metadata": {
    "tags": []
   },
   "outputs": [],
   "source": [
    "# My favorite colors for figures:\n",
    "custom_colors = [(6/255, 33/255, 92/255), (176/255, 35/255, 24/255),\n",
    "                 (229/255, 179/255, 69/255), (131/255, 170/255, 69/255),\n",
    "                 (116/255, 24/255, 123/255), (202/255, 91/255, 46/255),\n",
    "                 (107/255, 188/255, 233/255), 'grey', 'black'] "
   ]
  },
  {
   "cell_type": "code",
   "execution_count": null,
   "id": "e9ab2811-a2a6-4efc-8965-2b256f7d5051",
   "metadata": {},
   "outputs": [],
   "source": []
  }
 ],
 "metadata": {
  "kernelspec": {
   "display_name": "Python 3 (ipykernel)",
   "language": "python",
   "name": "python3"
  },
  "language_info": {
   "codemirror_mode": {
    "name": "ipython",
    "version": 3
   },
   "file_extension": ".py",
   "mimetype": "text/x-python",
   "name": "python",
   "nbconvert_exporter": "python",
   "pygments_lexer": "ipython3",
   "version": "3.8.17"
  }
 },
 "nbformat": 4,
 "nbformat_minor": 5
}
