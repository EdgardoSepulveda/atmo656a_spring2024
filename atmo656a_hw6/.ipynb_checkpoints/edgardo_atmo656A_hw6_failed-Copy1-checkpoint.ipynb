{
 "cells": [
  {
   "cell_type": "markdown",
   "id": "efa96a40-b1be-4408-b239-285c531c7e33",
   "metadata": {},
   "source": [
    "# ATMO656A Spring 2024 - Homework 6 (Mie Scattering)"
   ]
  },
  {
   "cell_type": "markdown",
   "id": "71d26bf3-6e78-4900-aa80-7f3b7e56383c",
   "metadata": {},
   "source": [
    "Edgardo I. Sepulveda Araya"
   ]
  },
  {
   "cell_type": "markdown",
   "id": "8c73db15-0810-4a63-9f9d-f255b5513a50",
   "metadata": {},
   "source": [
    "Code based on fortran code given as reference (hw6_F90.f)."
   ]
  },
  {
   "cell_type": "markdown",
   "id": "e1a5c32c-9503-4f80-bb8a-d79974bbbcec",
   "metadata": {},
   "source": [
    "Importing libraries:"
   ]
  },
  {
   "cell_type": "code",
   "execution_count": 6,
   "id": "68145ea0-b014-440d-a0bd-ce22b79be552",
   "metadata": {
    "tags": []
   },
   "outputs": [],
   "source": [
    "import numpy as np"
   ]
  },
  {
   "cell_type": "code",
   "execution_count": 2,
   "id": "c3c4408f-c1f7-4414-b167-27d1c440779e",
   "metadata": {
    "tags": []
   },
   "outputs": [],
   "source": [
    "# My favorite colors for figures:\n",
    "custom_colors = [(6/255, 33/255, 92/255), (176/255, 35/255, 24/255),\n",
    "                 (229/255, 179/255, 69/255), (131/255, 170/255, 69/255),\n",
    "                 (116/255, 24/255, 123/255), (202/255, 91/255, 46/255),\n",
    "                 (107/255, 188/255, 233/255), 'grey', 'black'] "
   ]
  },
  {
   "cell_type": "code",
   "execution_count": null,
   "id": "56040116-4b12-4190-b01c-4a6c00ee06fd",
   "metadata": {},
   "outputs": [],
   "source": [
    "def dmiess(RO, RFR, RFI, THETD, JX, QEXT, QSCAT, CTBRQS, ELTRMX, PI,\n",
    "           TAU, CSTHT, SI2THT, ACAP, QBS, IT,\n",
    "           LL, R, RE2, TMAG2, WVNO):\n",
    "    W = np.zeros((3,30000))\n",
    "    ACAP = np.zeros((LL))\n",
    "    WFN  = np.zeros((2))\n",
    "    Z    = np.zeros((4))\n",
    "    T    = np.zeros((5))\n",
    "    U    = np.zeros((8))\n",
    "    TA   = np.zeros((4))\n",
    "    TB   = np.zeros((2))\n",
    "    TC   = np.zeros((2))\n",
    "    TD   = np.zeros((2))\n",
    "    TE   = np.zeros((2))\n",
    "    PI( 3,IT ),   TAU( 3,IT ),\n",
    "    CSTHT(IT), THETD(IT), SI2THT(IT),   ELTRMX( 4,IT,2 )\n",
    "    FNAP = 0, FNBP = 0, \n",
    "    FNA = 0, FNB = 0,\n",
    "    WM1, FN1, FN2\n",
    "    TC1,       TC2,       \n",
    "    DH1,\n",
    "    DH2,       DH4,       P24H24,       P24H21,\n",
    "    PSTORE,    HSTORE,    DUMMY,        DUMSQ\n",
    "    \n",
    "    iflag = 1\n",
    "    if r/ro < 1e-6: IFLAG = 2\n",
    "    if jx <= it:\n",
    "        RF = complex(RFR,-RFI)\n",
    "        RC = complex(RE2,-TMAG2)\n",
    "        X  = RO * WVNO\n",
    "        K1 = RC * WVNO\n",
    "        K2 = RF * WVNO\n",
    "        K3 = complex(WVNO, 0)\n",
    "        Z[0] = K2 * RO\n",
    "        Z[1] = K3 * RO\n",
    "        Z[2] = K1 * R\n",
    "        Z[3] = K2 * R\n",
    "        X1   =  Z[0].real\n",
    "        Y1   =  Z[1].imag\n",
    "        X4   =  Z[2].real\n",
    "        Y4   =  Z[3].imag\n",
    "        RRF  =  1 / RF\n",
    "        RX   =  1 / X\n",
    "        RRFX =  RRF * RX\n",
    "        T[0] =  np.sqrt(( X**2 ) * ( RFR**2 + RFI**2 ))\n",
    "        NMX1 =  1.30 * T[0]\n",
    "        if NMX1 <= LL-1:\n",
    "            NMX2 = 1.1*T[0]\n",
    "            if NMX1 > 200:\n",
    "                ACAP[NMX1] = complex(0,0)\n",
    "                if IFLAG == 2:\n",
    "                    for N in range(1,3):\n",
    "                        W[N,NMX1 + 1] = complex(0,0)\n",
    "                else:\n",
    "                    for N in range(1,3):\n",
    "                        W[N,NMX1 + 1] = complex(0,0)\n",
    "            else:\n",
    "                NMX1 = 200\n",
    "                NMX2 = 190\n",
    "            \n",
    "        else:\n",
    "            print(\"The upper limit for ACAP is not enough.\")\n",
    "            print(\"Suggest getting detailed output and modifying the subroutine.\")\n",
    "            # STOP 32\n",
    "    else:\n",
    "        print(\"The value of the argument JX is greater than IT.\")\n",
    "        print(\"Please read comments.\")\n",
    "        # STOP 30\n",
    "    "
   ]
  },
  {
   "cell_type": "code",
   "execution_count": 21,
   "id": "490ffd36-94a9-404b-85c3-5eb2b0f3fb12",
   "metadata": {
    "tags": []
   },
   "outputs": [
    {
     "data": {
      "text/plain": [
       "(4+5j)"
      ]
     },
     "execution_count": 21,
     "metadata": {},
     "output_type": "execute_result"
    }
   ],
   "source": [
    "complex(4,5)"
   ]
  },
  {
   "cell_type": "code",
   "execution_count": 8,
   "id": "69b5f341-22d8-4248-922e-0f8a5fb11605",
   "metadata": {
    "tags": []
   },
   "outputs": [],
   "source": [
    "n1 = 1.299-0.037j\n",
    "n2 = 1.3873-0.0066j\n",
    "n3 = 2-0.66j\n",
    "n4 = 1.5-0.0j"
   ]
  },
  {
   "cell_type": "code",
   "execution_count": null,
   "id": "6395bb1f-d359-482c-ac0c-9b7d7a64cf95",
   "metadata": {},
   "outputs": [],
   "source": [
    "IT    = 183\n",
    "LL    = 9000\n",
    "#pie   =  ACOS( -1.0 )\n",
    "PIE   = np.pi\n",
    "TWOPI = 2.0 * pie"
   ]
  },
  {
   "cell_type": "code",
   "execution_count": 19,
   "id": "c1dc8f9b-4c8d-465d-aec2-b391e95021fe",
   "metadata": {
    "tags": []
   },
   "outputs": [
    {
     "name": "stdout",
     "output_type": "stream",
     "text": [
      "0.55 2.0 1.299 0.037 1.299 0.037\n"
     ]
    }
   ],
   "source": [
    "THETA    = np.arange(0,182,1) # Phase angles\n",
    "cosTHETA = np.zeros(183)\n",
    "sinTHETA = np.zeros(183)\n",
    "eltrmx   = np.zeros((4, 183, 2)) # Stokes matrix elements\n",
    "pi       = np.zeros((3, 183)) \n",
    "tau      = np.zeros((3, 183)) \n",
    "\n",
    "alam     = np.array([0.55, 1.00, 1.60, 2.20])\n",
    "rfrs     = np.array([1.299, 1.302, 1.290, 1.263])\n",
    "rfis     = np.array([0.037, 0.193E-05, 0.213E-03, 0.800E-03])\n",
    "rsh      = np.array([2.0, 0.225, 0.975])\n",
    "\n",
    "for i in range(1): # LINE 40\n",
    "    Rout     = rsh[j] # Particle radius of outer shell\n",
    "    rfro     = rfrs[j] # Real part of refractive index of outer shell?\n",
    "    rfio     = rfis[j] # Imaginary part of refractive index of outer shell?\n",
    "    rin      = rsh[j] # Core radius (set to zero)\n",
    "    rfri     = rfrs[j] # 1.5 # Core refractive index (Set to same as rfro)\n",
    "    rfii     = rfis[j] # 0 # Core refractive index (Set to same as rfio)\n",
    "    wn       = 2*np.pi/alam[j] # Wavenumber (same units than Rout)\n",
    "    print(alam[i], rin, rfri, rfii, rfro, rfio)\n",
    "#Qext     = # Extinction Efficiency\n",
    "#Qscat    = # Scattering Efficiency\n",
    "    \n",
    "#     for question 2, aj=.0000001,50,.05,   for q3 aj=.0000875,115,.05 \n",
    "#     ROUT=AJ*0.55/twopi   \n",
    "\n",
    "jx = 91 # Number of angles\n",
    "it = 183\n",
    "ll = 9000"
   ]
  },
  {
   "cell_type": "code",
   "execution_count": 20,
   "id": "903d72a5-9821-4ae9-b593-6f35c57fa344",
   "metadata": {
    "tags": []
   },
   "outputs": [
    {
     "name": "stdout",
     "output_type": "stream",
     "text": [
      "2.0\n"
     ]
    }
   ],
   "source": [
    "for j in range(1): # LINE 35\n",
    "    Rout = rsh[j]\n",
    "    print(Rout)\n",
    "    #ctbrqs = # Average cosine of theta * Qscat  \n",
    "    #Qbs # Backscatter efficiency\n",
    "    dmiess(Rout, rfro, rfio, THETA, jx, Qext, Qscat, ctbrqs, eltrmx, pi, tau, cstht, si2tht, acap, qbs, it, ll, rin, rfri, rfii, wn)\n",
    "    scat = np.pi * (Rout**2) * Qscat\n",
    "    anrm = 2*np.pi/((wn**2)*scat)\n",
    "    Qabs = Qext - Qscat\n",
    "    g    =  ctbrqs / Qscat\n",
    "    print(Rout, Qext, Qabs, Qbs, scat, g)"
   ]
  },
  {
   "cell_type": "code",
   "execution_count": null,
   "id": "21296818-ca33-43be-a8f4-d313f4ebe281",
   "metadata": {},
   "outputs": [],
   "source": []
  },
  {
   "cell_type": "markdown",
   "id": "5e33a4cc-3e62-495b-b183-683f7a9afaf8",
   "metadata": {},
   "source": [
    "Calculate phase function:"
   ]
  },
  {
   "cell_type": "code",
   "execution_count": null,
   "id": "b1d418d6-5960-4e51-8684-ac130c04b0d1",
   "metadata": {},
   "outputs": [],
   "source": [
    "for j in range(jx):\n",
    "    phase = anrm * (eltrmx[0,j,0] + eltrmx[1,j,0])\n",
    "    print(THETA[j]), phase)"
   ]
  },
  {
   "cell_type": "code",
   "execution_count": null,
   "id": "e7f1a3b1-37bf-46db-a5b4-5f95d9808b42",
   "metadata": {},
   "outputs": [],
   "source": [
    "jtot = 2*jx - 1\n",
    "for j in range(jx+1, jtot):\n",
    "    jm    = jtot + 1 -j\n",
    "    phase = anrm*(eltrmx[0,jm,1] + eltrmx[1,jm,1])\n",
    "    print(THETA[j], phase)"
   ]
  },
  {
   "cell_type": "code",
   "execution_count": null,
   "id": "41c2c2e3-540d-4224-859b-466940654a21",
   "metadata": {},
   "outputs": [],
   "source": []
  }
 ],
 "metadata": {
  "kernelspec": {
   "display_name": "Python 3 (ipykernel)",
   "language": "python",
   "name": "python3"
  },
  "language_info": {
   "codemirror_mode": {
    "name": "ipython",
    "version": 3
   },
   "file_extension": ".py",
   "mimetype": "text/x-python",
   "name": "python",
   "nbconvert_exporter": "python",
   "pygments_lexer": "ipython3",
   "version": "3.8.17"
  }
 },
 "nbformat": 4,
 "nbformat_minor": 5
}
