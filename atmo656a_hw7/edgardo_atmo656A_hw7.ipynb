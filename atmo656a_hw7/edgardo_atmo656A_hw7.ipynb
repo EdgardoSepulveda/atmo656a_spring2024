{
 "cells": [
  {
   "cell_type": "markdown",
   "id": "efa96a40-b1be-4408-b239-285c531c7e33",
   "metadata": {},
   "source": [
    "# ATMO656A Spring 2024 - Homework 7 (Mie Scattering for size distribution function)"
   ]
  },
  {
   "cell_type": "markdown",
   "id": "71d26bf3-6e78-4900-aa80-7f3b7e56383c",
   "metadata": {},
   "source": [
    "Edgardo I. Sepulveda Araya"
   ]
  },
  {
   "cell_type": "markdown",
   "id": "8c73db15-0810-4a63-9f9d-f255b5513a50",
   "metadata": {},
   "source": [
    "PyMieScatt package is used to compute mie scattering"
   ]
  },
  {
   "cell_type": "markdown",
   "id": "e1a5c32c-9503-4f80-bb8a-d79974bbbcec",
   "metadata": {},
   "source": [
    "Importing libraries:"
   ]
  },
  {
   "cell_type": "code",
   "execution_count": 118,
   "id": "68145ea0-b014-440d-a0bd-ce22b79be552",
   "metadata": {
    "tags": []
   },
   "outputs": [],
   "source": [
    "import numpy as np\n",
    "import pandas as pd\n",
    "import time\n",
    "from scipy.special import jv, yv\n",
    "from scipy.integrate import trapz\n",
    "from scipy import stats          #needed for lognormal distribution\n",
    "import warnings\n",
    "import PyMieScatt as pms\n",
    "import matplotlib.pyplot as plt\n",
    "import matplotlib.ticker as ticker"
   ]
  },
  {
   "cell_type": "code",
   "execution_count": 2,
   "id": "c3c4408f-c1f7-4414-b167-27d1c440779e",
   "metadata": {
    "tags": []
   },
   "outputs": [],
   "source": [
    "# My favorite colors for figures:\n",
    "custom_colors = [(6/255, 33/255, 92/255), (176/255, 35/255, 24/255),\n",
    "                 (229/255, 179/255, 69/255), (131/255, 170/255, 69/255),\n",
    "                 (116/255, 24/255, 123/255), (202/255, 91/255, 46/255),\n",
    "                 (107/255, 188/255, 233/255), 'grey', 'black'] "
   ]
  },
  {
   "cell_type": "markdown",
   "id": "81580749-b293-41a5-8b0f-11b3e130dba3",
   "metadata": {},
   "source": [
    "Modified functions (from original functions incorporated in PyMieScatt):"
   ]
  },
  {
   "cell_type": "markdown",
   "id": "beb33110-68f2-4925-b8cd-8fc7d49da333",
   "metadata": {},
   "source": [
    "Integral is modified from coefficient $\\beta$:\n",
    "\n",
    "$$\\beta = 10^{-6}\\int_{0}^{\\infty} \\frac{\\pi d_{p}^{2}}{4}Q(m,\\lambda,d_{p})n(d_p)dd_p$$\n",
    "\n",
    "to efficiency $\\overline{Q}$:\n",
    "\n",
    "$$\\overline{Q} = \\int_{0}^{\\infty} Q(m,\\lambda,d_{p})n(d_p)dd_p$$"
   ]
  },
  {
   "cell_type": "code",
   "execution_count": 9,
   "id": "b74db44c-bb0f-4776-9b36-096c71254faf",
   "metadata": {},
   "outputs": [],
   "source": [
    "def coerceDType(d):\n",
    "    if type(d) is not np.ndarray:\n",
    "        return np.array(d)\n",
    "    else:\n",
    "        return d"
   ]
  },
  {
   "cell_type": "code",
   "execution_count": 19,
   "id": "6df70ad1-0dec-49ad-9577-bcb86f4211b7",
   "metadata": {},
   "outputs": [],
   "source": [
    "def Mie_SD_mod(m, wavelength, dp, ndp, nMedium=1.0, interpolate=False, asDict=False):\n",
    "    nMedium = nMedium.real\n",
    "    m /= nMedium\n",
    "    wavelength /= nMedium\n",
    "    dp = coerceDType(dp)\n",
    "    ndp = coerceDType(ndp)\n",
    "    _length = np.size(dp)\n",
    "    Q_ext = np.zeros(_length)\n",
    "    Q_sca = np.zeros(_length)\n",
    "    Q_abs = np.zeros(_length)\n",
    "    Q_pr = np.zeros(_length)\n",
    "    Q_back = np.zeros(_length)\n",
    "    Q_ratio = np.zeros(_length)\n",
    "    g = np.zeros(_length)\n",
    "\n",
    "    # MODIFIED LINE from \"scaling of 1e-6 to cast in units of inverse megameters - see docs\"\n",
    "    aSDn = ndp # Original: np.pi*((dp/2)**2)*ndp\n",
    "    #  _logdp = np.log10(dp)\n",
    "\n",
    "    for i in range(_length):\n",
    "        Q_ext[i], Q_sca[i], Q_abs[i], g[i], Q_pr[i], Q_back[i], Q_ratio[i] = pms.MieQ(m,wavelength,dp[i],nMedium)\n",
    "\n",
    "    Qextt = trapz(Q_ext*aSDn)#,dp)\n",
    "    Qscat = trapz(Q_sca*aSDn)#,dp)\n",
    "    Qabst = Qextt-Qscatt\n",
    "    Qbackt = trapz(Q_back*aSDn)#,dp)\n",
    "    Qratiot = trapz(Q_ratio*aSDn)#,dp)\n",
    "    #bigG = trapz(g*Q_sca*aSDn,dp)/trapz(Q_sca*aSDn,dp)\n",
    "    bigGt = trapz(g*Q_sca*aSDn)/trapz(Q_sca*aSDn)\n",
    "    Qprt = Qextt - bigGt*Qscat\n",
    "\n",
    "    if asDict:\n",
    "        return dict(Qextt=Qextt, Qscat=Qscat, Qabst=Qabst, Gt=bigGt, Qprt=Qprt, Qbackt=Qbackt, Qratiot=Qratiot)\n",
    "    else:\n",
    "        return Qextt, Qscat, Qabst, bigGt, Qprt, Qbackt, Qratiot"
   ]
  },
  {
   "cell_type": "code",
   "execution_count": 17,
   "id": "f171a13d-7bf8-4520-a433-c20c401cb3fb",
   "metadata": {},
   "outputs": [],
   "source": [
    "def Mie_Lognormal_mod(m,wavelength,geoStdDev,geoMean,numberOfParticles,nMedium=1.0, numberOfBins=10000,lower=1,upper=1000,gamma=[1],returnDistribution=False,decomposeMultimodal=False,asDict=False):\n",
    "    nMedium = nMedium.real\n",
    "    m /= nMedium\n",
    "    wavelength /= nMedium\n",
    "    ithPart = lambda gammai, dp, dpgi, sigmagi: (gammai/(np.sqrt(2*np.pi)*np.log(sigmagi)*dp))*np.exp(-(np.log(dp)-np.log(dpgi))**2/(2*np.log(sigmagi)**2))\n",
    "    dp = np.logspace(np.log10(lower),np.log10(upper),numberOfBins)\n",
    "    if all([type(x) in [list, tuple, np.ndarray] for x in [geoStdDev, geoMean]]):\n",
    "        # multimodal\n",
    "        if len(gamma)==1 and (len(geoStdDev)==len(geoMean)>1):\n",
    "            # gamma is distributed equally among modes\n",
    "            gamma = [1 for x in geoStdDev]\n",
    "            gamma = [float(x/np.sum(gamma)) for x in gamma]\n",
    "            ndpi = [numberOfParticles*ithPart(g,dp,dpg,sg) for g,dpg,sg in zip(gamma,geoMean,geoStdDev)]\n",
    "            ndp = np.sum(ndpi,axis=0)\n",
    "        elif len(gamma)==len(geoStdDev)==len(geoMean):\n",
    "            # gamma is fully specified for each mode\n",
    "            gamma = [float(x/np.sum(gamma)) for x in gamma]\n",
    "            ndpi = [numberOfParticles*ithPart(g,dp,dpg,sg) for g,dpg,sg in zip(gamma,geoMean,geoStdDev)]\n",
    "            ndp = np.sum(ndpi,axis=0)\n",
    "        else:\n",
    "            # user fucked up\n",
    "            warnings.warn(\"Not enough parameters to fully specify each mode.\")\n",
    "            return None\n",
    "    else:\n",
    "        # unimodal\n",
    "        decomposeMultimodal = False\n",
    "        ndp = numberOfParticles*ithPart(1,dp,geoMean,geoStdDev)\n",
    "    if ndp[-1]>np.max(ndp)/100 or ndp[0]>np.max(ndp)/100:\n",
    "        warnings.warn(\"Warning: distribution may not be compact on the specified interval. Consider using a higher upper bound.\")\n",
    "    Qext, Qsca, Qabs, bigG, Qpr, Qback, Qratio = Mie_SD_mod(m,wavelength,dp,ndp)\n",
    "    if returnDistribution:\n",
    "        if decomposeMultimodal:\n",
    "            if asDict==True:\n",
    "                return dict(Qext=Qext, Qsca=Qsca, Qabs=Qabs, bigG=bigG, Qpr=Qpr, Qback=Qback, Qratio=Qratio), dp, ndp, ndpi\n",
    "            else:\n",
    "                return Qext, Qsca, Qabs, bigG, Qpr, Qback, Qratio, dp, ndp, ndpi\n",
    "        else:\n",
    "            if asDict==True:\n",
    "                return dict(Qext=Qext, Qsca=Qsca, Qabs=Qabs, bigG=bigG, Qpr=Qpr, Qback=Qback, Qratio=Qratio), dp, ndp\n",
    "            else:\n",
    "                return Qext, Qsca, Qabs, bigG, Qpr, Qback, Qratio, dp, ndp\n",
    "    else:\n",
    "        if asDict==True:\n",
    "            return dict(Qext=Qext, Qsca=Qsca, Qabs=Qabs, bigG=bigG, Qpr=Qpr, Qback=Qback, Qratio=Qratio)\n",
    "        else:\n",
    "            return Qext, Qsca, Qabs, bigG, Qpr, Qback, Qratio"
   ]
  },
  {
   "cell_type": "markdown",
   "id": "e02b14a4-f979-4453-8b19-20e1982cd3e9",
   "metadata": {},
   "source": [
    "## Q2, Q3 and Q4"
   ]
  },
  {
   "cell_type": "code",
   "execution_count": 105,
   "id": "2e330741-d45a-4141-a7ff-98f74c0823f9",
   "metadata": {},
   "outputs": [],
   "source": [
    "m     = 1.3873 + 0.0066j          # Refractive Index\n",
    "wl    = 500                       # wavelength in nm (unit requested by PyMieScatt)\n",
    "gsd   = [1.1, 1.4, 1.8, 2.1, 2.5] # Geometric Standard Deviation of size distribution\n",
    "gmean = np.arange(10,10010,10)     # Geometric mean of size distribution in nm (unit requested by PyMieScatt)\n",
    "npart = 10000                     # Number of particles\n",
    "nMedium = 1"
   ]
  },
  {
   "cell_type": "code",
   "execution_count": 106,
   "id": "94e3706d-be44-4db0-adb7-629db4be44c6",
   "metadata": {},
   "outputs": [],
   "source": [
    "Q_ext = []\n",
    "for ri in gmean:\n",
    "    result = pms.MieQ(m,wl,ri,nMedium)\n",
    "    Q_ext.append(result[0])"
   ]
  },
  {
   "cell_type": "code",
   "execution_count": 107,
   "id": "e000553c-b773-4ff5-a808-0b8091e2d8c7",
   "metadata": {},
   "outputs": [],
   "source": [
    "x = 2*np.pi*gmean/wl"
   ]
  },
  {
   "cell_type": "code",
   "execution_count": 108,
   "id": "9399ccc1-56b7-4295-8c1d-d57384966d89",
   "metadata": {},
   "outputs": [
    {
     "data": {
      "text/plain": [
       "[<matplotlib.lines.Line2D at 0x7f89ef399850>]"
      ]
     },
     "execution_count": 108,
     "metadata": {},
     "output_type": "execute_result"
    },
    {
     "data": {
      "image/png": "[encoded data removed]",
      "text/plain": [
       "<Figure size 432x288 with 1 Axes>"
      ]
     },
     "metadata": {
      "needs_background": "light"
     },
     "output_type": "display_data"
    }
   ],
   "source": [
    "plt.plot(x,Q_ext)"
   ]
  },
  {
   "cell_type": "markdown",
   "id": "5fb7ac4e-c6da-45af-86c8-810fe6c23566",
   "metadata": {},
   "source": [
    "It takes like one hour !!!:"
   ]
  },
  {
   "cell_type": "code",
   "execution_count": 111,
   "id": "2300d67c-18d6-4f07-88db-5896bdc71133",
   "metadata": {},
   "outputs": [
    {
     "name": "stdout",
     "output_type": "stream",
     "text": [
      "10000\n",
      "0.5419979095458984\n",
      "10000\n",
      "0.5114829540252686\n",
      "10000\n",
      "0.4417860507965088\n",
      "10000\n",
      "0.8908629417419434\n",
      "10000\n",
      "0.4446408748626709\n",
      "10000\n",
      "0.6452112197875977\n",
      "10000\n",
      "0.5715477466583252\n",
      "10000\n",
      "0.6666696071624756\n",
      "10000\n",
      "0.9114091396331787\n",
      "10000\n",
      "0.8073139190673828\n",
      "10000\n",
      "0.8078458309173584\n",
      "10000\n",
      "0.6052050590515137\n",
      "10000\n",
      "0.3624451160430908\n",
      "10000\n",
      "0.4201240539550781\n",
      "10000\n",
      "0.4231269359588623\n",
      "10000\n",
      "0.5532360076904297\n",
      "10000\n",
      "0.5686728954315186\n",
      "10000\n",
      "0.5250911712646484\n",
      "10000\n",
      "0.46071290969848633\n",
      "10000\n",
      "0.4410560131072998\n",
      "10000\n",
      "0.5028207302093506\n",
      "10000\n",
      "0.4707179069519043\n",
      "10000\n",
      "0.9967460632324219\n",
      "10000\n",
      "1.4072139263153076\n",
      "10000\n",
      "0.452678918838501\n",
      "10000\n",
      "0.884127140045166\n",
      "10000\n",
      "0.4303288459777832\n",
      "10000\n",
      "0.6512298583984375\n",
      "10000\n",
      "0.4143180847167969\n",
      "10000\n",
      "0.6650879383087158\n",
      "10000\n",
      "0.5484180450439453\n",
      "10000\n",
      "0.4179520606994629\n",
      "10000\n",
      "0.6639499664306641\n",
      "10000\n",
      "0.3765280246734619\n",
      "10000\n",
      "0.3305962085723877\n"
     ]
    }
   ],
   "source": [
    "r_space  = np.logspace(-1,6,100)\n",
    "Q_ext_sd = np.zeros((len(gmean),len(gsd)))\n",
    "for gsd_i in range(len(gsd)):\n",
    "    start = time.time()\n",
    "    for r_i in range(len(gmean)):\n",
    "        start = time.time()\n",
    "        lognorm = (1/(np.sqrt(2*np.pi)*np.log(gsd[gsd_i]))) * np.exp( -((np.log(r_space)-np.log(gmean[r_i]))**2)/(2*np.log(gsd[gsd_i])**2))\n",
    "        nrqri   = []\n",
    "        for logri in range(len(r_space)):\n",
    "            mie_result = pms.MieQ(m, wl, r_space[logri], nMedium)\n",
    "            nrqri.append(lognorm[logri]*mie_result[0])\n",
    "        Q_ext_sd[r_i,gsd_i] = trapz(nrqri)\n",
    "        if r_i in [20,40,60,80,100,500,999]: \n",
    "            print(gsd[gsd_i], gmean[r_i])\n",
    "            end = time.time()\n",
    "            print(end - start)"
   ]
  },
  {
   "cell_type": "code",
   "execution_count": 133,
   "id": "c56d2d6a-a9cc-4df3-9e84-d60b82ea7cba",
   "metadata": {},
   "outputs": [
    {
     "data": {
      "text/plain": [
       "<matplotlib.legend.Legend at 0x7f89f3a2b5d0>"
      ]
     },
     "execution_count": 133,
     "metadata": {},
     "output_type": "execute_result"
    },
    {
     "data": {
      "image/png": "[encoded data removed]",
      "text/plain": [
       "<Figure size 432x288 with 1 Axes>"
      ]
     },
     "metadata": {
      "needs_background": "light"
     },
     "output_type": "display_data"
    }
   ],
   "source": [
    "magic_factor = 0.16 # Why??\n",
    "Q_ext_sd_scaled = Q_ext_sd*magic_factor\n",
    "\n",
    "plt.plot(x, Q_ext, label = 'single particle', linewidth = 1.5)\n",
    "plt.plot(x, Q_ext_sd_scaled[:,0], label = r'$\\sigma_g$ = 1.1', linewidth = 1.5)\n",
    "plt.plot(x, Q_ext_sd_scaled[:,1], label = r'$\\sigma_g$ = 1.4', linewidth = 1.5)\n",
    "plt.plot(x, Q_ext_sd_scaled[:,2], label = r'$\\sigma_g$ = 1.8', linewidth = 1.5)\n",
    "plt.plot(x, Q_ext_sd_scaled[:,3], label = r'$\\sigma_g$ = 2.1', linewidth = 1.5)\n",
    "plt.plot(x, Q_ext_sd_scaled[:,4], label = r'$\\sigma_g$ = 2.5', linewidth = 1.5)\n",
    "\n",
    "plt.ylabel(r'$Q_{ext}$', fontsize = 12)\n",
    "plt.xlabel('Size parameter', fontsize = 12)\n",
    "\n",
    "plt.xscale('log')\n",
    "\n",
    "plt.ylim(-0.4, 4.3)\n",
    "\n",
    "plt.legend(frameon = False, ncol = 1, fontsize = 12, loc='upper left')"
   ]
  },
  {
   "cell_type": "markdown",
   "id": "f201c824-1d06-4e67-93f0-1e173e16f5b5",
   "metadata": {},
   "source": [
    "Saving data (avoid running the calculation again):"
   ]
  },
  {
   "cell_type": "code",
   "execution_count": 130,
   "id": "3387fd0e-8394-4a4b-a62e-9152fc73870e",
   "metadata": {},
   "outputs": [],
   "source": [
    "# convert array into dataframe \n",
    "DF = pd.DataFrame(Q_ext_sd_scaled) \n",
    "  \n",
    "# save the dataframe as a csv file \n",
    "DF.to_csv(\"Q_ext_sd.csv\")"
   ]
  }
 ],
 "metadata": {
  "kernelspec": {
   "display_name": "Python 3 (ipykernel)",
   "language": "python",
   "name": "python3"
  },
  "language_info": {
   "codemirror_mode": {
    "name": "ipython",
    "version": 3
   },
   "file_extension": ".py",
   "mimetype": "text/x-python",
   "name": "python",
   "nbconvert_exporter": "python",
   "pygments_lexer": "ipython3",
   "version": "3.7.11"
  }
 },
 "nbformat": 4,
 "nbformat_minor": 5
}
