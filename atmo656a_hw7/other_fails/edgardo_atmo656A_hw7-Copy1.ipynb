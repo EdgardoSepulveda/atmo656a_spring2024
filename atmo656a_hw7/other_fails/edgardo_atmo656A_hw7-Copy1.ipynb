{
 "cells": [
  {
   "cell_type": "markdown",
   "id": "efa96a40-b1be-4408-b239-285c531c7e33",
   "metadata": {},
   "source": [
    "# ATMO656A Spring 2024 - Homework 7 (Mie Scattering for size distribution function)"
   ]
  },
  {
   "cell_type": "markdown",
   "id": "71d26bf3-6e78-4900-aa80-7f3b7e56383c",
   "metadata": {},
   "source": [
    "Edgardo I. Sepulveda Araya"
   ]
  },
  {
   "cell_type": "markdown",
   "id": "8c73db15-0810-4a63-9f9d-f255b5513a50",
   "metadata": {},
   "source": [
    "PyMieScatt package is used to compute mie scattering"
   ]
  },
  {
   "cell_type": "markdown",
   "id": "e1a5c32c-9503-4f80-bb8a-d79974bbbcec",
   "metadata": {},
   "source": [
    "Importing libraries:"
   ]
  },
  {
   "cell_type": "code",
   "execution_count": 1,
   "id": "68145ea0-b014-440d-a0bd-ce22b79be552",
   "metadata": {
    "tags": []
   },
   "outputs": [],
   "source": [
    "import numpy as np\n",
    "from scipy.special import jv, yv\n",
    "from scipy.integrate import trapz\n",
    "import warnings\n",
    "import PyMieScatt as pms\n",
    "import matplotlib.pyplot as plt\n",
    "import matplotlib.ticker as ticker"
   ]
  },
  {
   "cell_type": "code",
   "execution_count": 2,
   "id": "c3c4408f-c1f7-4414-b167-27d1c440779e",
   "metadata": {
    "tags": []
   },
   "outputs": [],
   "source": [
    "# My favorite colors for figures:\n",
    "custom_colors = [(6/255, 33/255, 92/255), (176/255, 35/255, 24/255),\n",
    "                 (229/255, 179/255, 69/255), (131/255, 170/255, 69/255),\n",
    "                 (116/255, 24/255, 123/255), (202/255, 91/255, 46/255),\n",
    "                 (107/255, 188/255, 233/255), 'grey', 'black'] "
   ]
  },
  {
   "cell_type": "markdown",
   "id": "81580749-b293-41a5-8b0f-11b3e130dba3",
   "metadata": {},
   "source": [
    "Modified functions (from original functions incorporated in PyMieScatt):"
   ]
  },
  {
   "cell_type": "markdown",
   "id": "beb33110-68f2-4925-b8cd-8fc7d49da333",
   "metadata": {},
   "source": [
    "Integral is modified from coefficient $\\beta$:\n",
    "\n",
    "$$\\beta = 10^{-6}\\int_{0}^{\\infty} \\frac{\\pi d_{p}^{2}}{4}Q(m,\\lambda,d_{p})n(d_p)dd_p$$\n",
    "\n",
    "to efficiency $\\overline{Q}$:\n",
    "\n",
    "$$\\overline{Q} = \\int_{0}^{\\infty} Q(m,\\lambda,d_{p})n(d_p)dd_p$$"
   ]
  },
  {
   "cell_type": "code",
   "execution_count": 3,
   "id": "6df70ad1-0dec-49ad-9577-bcb86f4211b7",
   "metadata": {},
   "outputs": [],
   "source": [
    "def Mie_SD_mod(m, wavelength, dp, ndp, nMedium=1.0, interpolate=False, asDict=False):\n",
    "    nMedium = nMedium.real\n",
    "    m /= nMedium\n",
    "    wavelength /= nMedium\n",
    "    dp = coerceDType(dp)\n",
    "    ndp = coerceDType(ndp)\n",
    "    _length = np.size(dp)\n",
    "    Q_ext = np.zeros(_length)\n",
    "    Q_sca = np.zeros(_length)\n",
    "    Q_abs = np.zeros(_length)\n",
    "    Q_pr = np.zeros(_length)\n",
    "    Q_back = np.zeros(_length)\n",
    "    Q_ratio = np.zeros(_length)\n",
    "    g = np.zeros(_length)\n",
    "\n",
    "    # MODIFIED LINE from \"scaling of 1e-6 to cast in units of inverse megameters - see docs\"\n",
    "    aSDn = ndp # Original: np.pi*((dp/2)**2)*ndp\n",
    "    #  _logdp = np.log10(dp)\n",
    "\n",
    "    for i in range(_length):\n",
    "        Q_extr[i], Q_scar[i], Q_absr[i], gr[i], Q_prr[i], Q_backr[i], Q_ratior[i] = AutoMieQ(m,wavelength,dp[i],nMedium)\n",
    "\n",
    "    Qext = trapz(Q_extr*aSDn)#,dp)\n",
    "    Qsca = trapz(Q_scar*aSDn)#,dp)\n",
    "    Qabs = Qext-Qsca\n",
    "    Qback = trapz(Q_backr*aSDn)#,dp)\n",
    "    Qratio = trapz(Q_ratior*aSDn)#,dp)\n",
    "    #bigG = trapz(g*Q_sca*aSDn,dp)/trapz(Q_sca*aSDn,dp)\n",
    "    bigG = trapz(g*Q_scar*aSDn)/trapz(Q_scar*aSDn)\n",
    "    Qpr = Qext - bigG*Qsca\n",
    "\n",
    "    if asDict:\n",
    "        return dict(Qext=Qext, Qsca=Qsca, Qabs=Qabs, G=bigG, Qpr=Qpr, Qback=Qback, Qratio=Qratio)\n",
    "    else:\n",
    "        return Qext, Qsca, Qabs, bigG, Qpr, Qback, Qratio"
   ]
  },
  {
   "cell_type": "code",
   "execution_count": 4,
   "id": "f171a13d-7bf8-4520-a433-c20c401cb3fb",
   "metadata": {},
   "outputs": [],
   "source": [
    "def Mie_Lognormal_mod(m,wavelength,geoStdDev,geoMean,numberOfParticles,nMedium=1.0, numberOfBins=10000,lower=1,upper=1000,gamma=[1],returnDistribution=False,decomposeMultimodal=False,asDict=False):\n",
    "    nMedium = nMedium.real\n",
    "    m /= nMedium\n",
    "    wavelength /= nMedium\n",
    "    ithPart = lambda gammai, dp, dpgi, sigmagi: (gammai/(np.sqrt(2*np.pi)*np.log(sigmagi)*dp))*np.exp(-(np.log(dp)-np.log(dpgi))**2/(2*np.log(sigmagi)**2))\n",
    "    dp = np.logspace(np.log10(lower),np.log10(upper),numberOfBins)\n",
    "    if all([type(x) in [list, tuple, np.ndarray] for x in [geoStdDev, geoMean]]):\n",
    "        # multimodal\n",
    "        if len(gamma)==1 and (len(geoStdDev)==len(geoMean)>1):\n",
    "            # gamma is distributed equally among modes\n",
    "            gamma = [1 for x in geoStdDev]\n",
    "            gamma = [float(x/np.sum(gamma)) for x in gamma]\n",
    "            ndpi = [numberOfParticles*ithPart(g,dp,dpg,sg) for g,dpg,sg in zip(gamma,geoMean,geoStdDev)]\n",
    "            ndp = np.sum(ndpi,axis=0)\n",
    "        elif len(gamma)==len(geoStdDev)==len(geoMean):\n",
    "            # gamma is fully specified for each mode\n",
    "            gamma = [float(x/np.sum(gamma)) for x in gamma]\n",
    "            ndpi = [numberOfParticles*ithPart(g,dp,dpg,sg) for g,dpg,sg in zip(gamma,geoMean,geoStdDev)]\n",
    "            ndp = np.sum(ndpi,axis=0)\n",
    "        else:\n",
    "            # user fucked up\n",
    "            warnings.warn(\"Not enough parameters to fully specify each mode.\")\n",
    "            return None\n",
    "    else:\n",
    "        # unimodal\n",
    "        decomposeMultimodal = False\n",
    "        ndp = numberOfParticles*ithPart(1,dp,geoMean,geoStdDev)\n",
    "    if ndp[-1]>np.max(ndp)/100 or ndp[0]>np.max(ndp)/100:\n",
    "        warnings.warn(\"Warning: distribution may not be compact on the specified interval. Consider using a higher upper bound.\")\n",
    "    Qext, Qsca, Qabs, bigG, Qpr, Qback, Qratio = Mie_SD_mod(m,wavelength,dp,ndp)\n",
    "    if returnDistribution:\n",
    "        if decomposeMultimodal:\n",
    "            if asDict==True:\n",
    "                return dict(Qext=Qext, Qsca=Qsca, Qabs=Qabs, bigG=bigG, Qpr=Qpr, Qback=Qback, Qratio=Qratio), dp, ndp, ndpi\n",
    "            else:\n",
    "                return Qext, Qsca, Qabs, bigG, Qpr, Qback, Qratio, dp, ndp, ndpi\n",
    "        else:\n",
    "            if asDict==True:\n",
    "                return dict(Qext=Qext, Qsca=Qsca, Qabs=Qabs, bigG=bigG, Qpr=Qpr, Qback=Qback, Qratio=Qratio), dp, ndp\n",
    "            else:\n",
    "                return Qext, Qsca, Qabs, bigG, Qpr, Qback, Qratio, dp, ndp\n",
    "    else:\n",
    "        if asDict==True:\n",
    "            return dict(Qext=Qext, Qsca=Qsca, Qabs=Qabs, bigG=bigG, Qpr=Qpr, Qback=Qback, Qratio=Qratio)\n",
    "        else:\n",
    "            return Qext, Qsca, Qabs, bigG, Qpr, Qback, Qratio"
   ]
  },
  {
   "cell_type": "markdown",
   "id": "e5f48259-5202-478c-8529-948bf4ff76a5",
   "metadata": {},
   "source": [
    "## Question 2"
   ]
  },
  {
   "cell_type": "markdown",
   "id": "ce355e0a-34f9-4a63-9558-7a140f6129c5",
   "metadata": {},
   "source": [
    "This can take too much time:"
   ]
  },
  {
   "cell_type": "code",
   "execution_count": 28,
   "id": "67f04d96-e948-48e5-93e6-1d53a2d643ef",
   "metadata": {},
   "outputs": [],
   "source": [
    "m     = 1.3873 + 0.0066j          # Refractive Index\n",
    "wl    = 500                       # wavelength in nm (unit requested by PyMieScatt)\n",
    "gsd   = [1.1, 1.4, 1.8, 2.1, 2.5] # Geometric Standard Deviation of size distribution\n",
    "gmean = np.arange(10,2510,10)     # Geometric mean of size distribution in nm (unit requested by PyMieScatt)\n",
    "npart = 10000                     # Number of particles\n",
    "\n",
    "Qext   = np.zeros((len(gmean), len(gsd))) # 1000 gmean sizes (rows) X 6 gsd (columns)\n",
    "Qsca   = np.zeros((len(gmean), len(gsd))) # 1000 gmean sizes (rows) X 6 gsd (columns)\n",
    "Qabs   = np.zeros((len(gmean), len(gsd))) # 1000 gmean sizes (rows) X 6 gsd (columns)\n",
    "bigG   = np.zeros((len(gmean), len(gsd))) # 1000 gmean sizes (rows) X 6 gsd (columns)\n",
    "Qpr    = np.zeros((len(gmean), len(gsd))) # 1000 gmean sizes (rows) X 6 gsd (columns)\n",
    "Qback  = np.zeros((len(gmean), len(gsd))) # 1000 gmean sizes (rows) X 6 gsd (columns)\n",
    "Qratio = np.zeros((len(gmean), len(gsd))) # 1000 gmean sizes (rows) X 6 gsd (columns)\n",
    "for gsd_idx in [0]:\n",
    "    for ri_idx in range(len(gmean)):\n",
    "        gsdi = gsd[gsd_idx]\n",
    "        ri   = gmean[ri_idx]\n",
    "        Qexti, Qscai, Qabsi, bigGi, Qpri, Qbacki, Qratioi = pms.Mie_Lognormal(m, wl, gsdi, ri, npart)\n",
    "        Qext[ri_idx,gsd_idx]   = Qexti\n",
    "        Qsca[ri_idx,gsd_idx]   = Qscai\n",
    "        Qabs[ri_idx,gsd_idx]   = Qabsi\n",
    "        bigG[ri_idx,gsd_idx]   = bigGi\n",
    "        Qpr[ri_idx,gsd_idx]    = Qpri\n",
    "        Qback[ri_idx,gsd_idx]  = Qbacki\n",
    "        Qratio[ri_idx,gsd_idx] = Qratioi"
   ]
  },
  {
   "cell_type": "code",
   "execution_count": 21,
   "id": "96ff34ba-2007-4200-b4ca-cf7e65ada21c",
   "metadata": {},
   "outputs": [],
   "source": [
    "x = (2*np.pi*gmean)/wl"
   ]
  },
  {
   "cell_type": "code",
   "execution_count": 23,
   "id": "9dfed129-7131-4e66-8999-1857858a1f7c",
   "metadata": {},
   "outputs": [
    {
     "data": {
      "text/plain": [
       "[<matplotlib.lines.Line2D at 0x7fa6cbef68d0>]"
      ]
     },
     "execution_count": 23,
     "metadata": {},
     "output_type": "execute_result"
    },
    {
     "data": {
      "image/png": "[encoded data removed]",
      "text/plain": [
       "<Figure size 432x288 with 1 Axes>"
      ]
     },
     "metadata": {
      "needs_background": "light"
     },
     "output_type": "display_data"
    }
   ],
   "source": [
    "plt.plot(x,Qext[:,0]/npart)"
   ]
  },
  {
   "cell_type": "code",
   "execution_count": 9,
   "id": "ac330fe1-e007-4b4b-953d-8574161a0a63",
   "metadata": {},
   "outputs": [],
   "source": [
    "gmean = np.arange(100,2600,100)"
   ]
  },
  {
   "cell_type": "code",
   "execution_count": 10,
   "id": "a5d5eb3b-f4f7-410f-bd3b-c704ef4073b4",
   "metadata": {},
   "outputs": [
    {
     "data": {
      "text/plain": [
       "array([ 100,  200,  300,  400,  500,  600,  700,  800,  900, 1000, 1100,\n",
       "       1200, 1300, 1400, 1500, 1600, 1700, 1800, 1900, 2000, 2100, 2200,\n",
       "       2300, 2400, 2500])"
      ]
     },
     "execution_count": 10,
     "metadata": {},
     "output_type": "execute_result"
    }
   ],
   "source": [
    "gmean"
   ]
  },
  {
   "cell_type": "code",
   "execution_count": 25,
   "id": "dbe121c0-dd3f-4e66-8f40-eec051fdf403",
   "metadata": {},
   "outputs": [
    {
     "data": {
      "text/plain": [
       "[<matplotlib.lines.Line2D at 0x7fa6cb68a6d0>]"
      ]
     },
     "execution_count": 25,
     "metadata": {},
     "output_type": "execute_result"
    },
    {
     "data": {
      "image/png": "[encoded data removed]",
      "text/plain": [
       "<Figure size 432x288 with 1 Axes>"
      ]
     },
     "metadata": {
      "needs_background": "light"
     },
     "output_type": "display_data"
    }
   ],
   "source": [
    "plt.plot(x,Qext[:,4]/npart)"
   ]
  },
  {
   "cell_type": "code",
   "execution_count": null,
   "id": "f3c439c2-fe0e-4c1d-b40b-3f357641ba2a",
   "metadata": {},
   "outputs": [],
   "source": []
  }
 ],
 "metadata": {
  "kernelspec": {
   "display_name": "Python 3 (ipykernel)",
   "language": "python",
   "name": "python3"
  },
  "language_info": {
   "codemirror_mode": {
    "name": "ipython",
    "version": 3
   },
   "file_extension": ".py",
   "mimetype": "text/x-python",
   "name": "python",
   "nbconvert_exporter": "python",
   "pygments_lexer": "ipython3",
   "version": "3.7.11"
  }
 },
 "nbformat": 4,
 "nbformat_minor": 5
}
